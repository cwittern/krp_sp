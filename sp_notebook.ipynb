{
 "cells": [
  {
   "cell_type": "markdown",
   "metadata": {},
   "source": [
    "# Load models\n",
    "\n",
    "Flags for the models (vocabulary size: 30000)\n",
    "\n",
    "m0 : model for the whole Kanseki Repository\n",
    "\n",
    "m1 : models for six parts (６部)\n",
    "\n",
    "m2 : models for 75 divisions (75部類)\n",
    "\n",
    "Vocabulary size: 20000\n",
    "\n",
    "m5 : : models for 75 divisions (75部類)\n"
   ]
  },
  {
   "cell_type": "code",
   "execution_count": null,
   "metadata": {},
   "outputs": [],
   "source": [
    "import krp_sp as k\n",
    "import matplotlib.pyplot as plt\n",
    "%matplotlib inline\n",
    "import networkx as nx\n",
    "import pandas as pd\n",
    "import numpy as np\n",
    "\n",
    "\n",
    "# load the log values : , log=True\n",
    "ms, md, mv = k.loadmodels(flag=\"m2\",  use_krp_names=False)\n",
    "len(md)"
   ]
  },
  {
   "cell_type": "markdown",
   "metadata": {},
   "source": [
    "Load random samples from the data files "
   ]
  },
  {
   "cell_type": "code",
   "execution_count": null,
   "metadata": {},
   "outputs": [],
   "source": [
    "smp = k.loadsamples()"
   ]
  },
  {
   "cell_type": "code",
   "execution_count": null,
   "metadata": {},
   "outputs": [],
   "source": [
    "print(smp[1])"
   ]
  },
  {
   "cell_type": "code",
   "execution_count": null,
   "metadata": {},
   "outputs": [],
   "source": [
    "def getbest(md, sntc, mv=None, cnt=3):\n",
    "    \"\"\"Get the best result for the sentence provided. Optionally, return cnt results. SMP is the loaded list of models. Optionally provide a list with log values.\"\"\"\n",
    "    res=[]\n",
    "    for i, mx in enumerate(md):\n",
    "        ids = mx.encode_as_ids(sntc)\n",
    "        if mv:\n",
    "            r = sum([mv[i][a] for a in ids]) / len(ids)\n",
    "        else:\n",
    "            r = sum([mx.GetScore(a) for a in ids]) / len(ids)\n",
    "        res.append((i, r))\n",
    "    resx=sorted(res, key=lambda x: x[1], reverse=True)\n",
    "    #print(resx)\n",
    "    return [a[0] for a in resx[0:cnt]]\n"
   ]
  },
  {
   "cell_type": "code",
   "execution_count": null,
   "metadata": {},
   "outputs": [],
   "source": [
    "test=smp[1][1][0]\n",
    "print(test)\n",
    "t2 = md[1].encode_as_pieces(test)\n",
    "t1 = sum([md[1].GetScore(a) for a in  md[1].encode_as_ids(test)])\n",
    "print(t1, t2)"
   ]
  },
  {
   "cell_type": "code",
   "execution_count": null,
   "metadata": {},
   "outputs": [],
   "source": [
    "k.getbest(md, smp[1][0][1], None, 1)"
   ]
  },
  {
   "cell_type": "code",
   "execution_count": null,
   "metadata": {},
   "outputs": [],
   "source": [
    "from collections import defaultdict\n",
    "kn=dict([(a[1],a[0]) for a in k.krp_names.items()])\n",
    "smpres=[]\n",
    "for s in smp:\n",
    "    d=defaultdict(int)\n",
    "    n=kn[s[0]]\n",
    "    for s1 in s[1]:\n",
    "        res=[ms[a] for a in getbest(md, s1)]\n",
    "        for i, rx in enumerate(res):\n",
    "            score= 3 - i\n",
    "            d[rx] += score\n",
    "    dr = sorted(d.items(), key = lambda i: i[1], reverse=True)\n",
    "    cr = sum([a[1] for a in dr if a[0]==n])\n",
    "    smpres.append ((\"%s%s\" % (n,s[0]), cr, \",\".join([\"%s:%s\" % a for a in dr])))"
   ]
  },
  {
   "cell_type": "code",
   "execution_count": null,
   "metadata": {},
   "outputs": [],
   "source": [
    "df=pd.DataFrame(smpres)\n",
    "print(df)"
   ]
  },
  {
   "cell_type": "code",
   "execution_count": null,
   "metadata": {},
   "outputs": [],
   "source": [
    "len(mv[0])"
   ]
  },
  {
   "cell_type": "markdown",
   "metadata": {},
   "source": [
    "How many characters are in every vocab list?"
   ]
  },
  {
   "cell_type": "code",
   "execution_count": null,
   "metadata": {},
   "outputs": [],
   "source": [
    "from collections import defaultdict\n",
    "vd=defaultdict(int)\n",
    "for vl in mv:\n",
    "    for v in vl:\n",
    "        vd[v] += 1\n",
    "vtab=defaultdict(int)\n",
    "for v in vd.items():\n",
    "    vtab[v[1]] += 1"
   ]
  },
  {
   "cell_type": "code",
   "execution_count": null,
   "metadata": {},
   "outputs": [],
   "source": [
    "vds = sorted(vtab.items(), key = lambda i: i[0], reverse=True)\n",
    "df=pd.DataFrame(vds, columns=[\"OccNo\", \"Count\"])\n",
    "print(df)"
   ]
  },
  {
   "cell_type": "markdown",
   "metadata": {},
   "source": [
    "Turn the vocabulary list of list around, list by sp"
   ]
  },
  {
   "cell_type": "code",
   "execution_count": null,
   "metadata": {},
   "outputs": [],
   "source": [
    "from collections import defaultdict\n",
    "vx=defaultdict(list)\n",
    "for i, vl in enumerate(mv):\n",
    "    for v in vl:\n",
    "        vx[v].append(ms[i])\n"
   ]
  },
  {
   "cell_type": "markdown",
   "metadata": {},
   "source": [
    "Look at vocab entries with only 2 occurrences"
   ]
  },
  {
   "cell_type": "code",
   "execution_count": null,
   "metadata": {},
   "outputs": [],
   "source": [
    "v2 = [a for a in vx.items() if len(a[1]) == 2]\n",
    "vd2 = defaultdict(lambda: defaultdict(int))\n",
    "for vdn in v2:\n",
    "    l1 = vdn[1][0]\n",
    "    l2 = vdn[1][1]\n",
    "    vd2[l1][l2]+=1\n"
   ]
  },
  {
   "cell_type": "code",
   "execution_count": null,
   "metadata": {},
   "outputs": [],
   "source": [
    "o = []\n",
    "for g1 in vd2:\n",
    "    for g2 in vd2[g1]:\n",
    "        w = vd2[g1][g2]\n",
    "        if w > 40:\n",
    "            o.append((g1, g2, w))"
   ]
  },
  {
   "cell_type": "code",
   "execution_count": null,
   "metadata": {},
   "outputs": [],
   "source": [
    "G = nx.MultiGraph()\n",
    "#o=[(g1, g2, vd2[g1][g2]) for g2 in vd2[g1] for g1 in vd2 if vd2[g1][g2] > 10]\n",
    "G.add_weighted_edges_from(o)\n",
    "        "
   ]
  },
  {
   "cell_type": "code",
   "execution_count": null,
   "metadata": {},
   "outputs": [],
   "source": [
    "nx.draw(G, with_labels=True, figsize=(2000, 2000))"
   ]
  },
  {
   "cell_type": "code",
   "execution_count": null,
   "metadata": {},
   "outputs": [],
   "source": [
    "for k in G.nodes():\n",
    "    print (k, G[k].items())"
   ]
  },
  {
   "cell_type": "code",
   "execution_count": null,
   "metadata": {},
   "outputs": [],
   "source": [
    "import matplotlib.font_manager as mfm\n",
    "import matplotlib.pyplot as plt\n",
    "\n",
    "font_path = \"/usr/share/fonts/opentype/noto/NotoSansCJK-Thin.ttc\"\n",
    "prop = mfm.FontProperties(fname=font_path)\n",
    "plt.text(0.5, 0.5, s='测试', fontproperties=prop, size='40')\n",
    "plt.show()"
   ]
  },
  {
   "cell_type": "code",
   "execution_count": null,
   "metadata": {},
   "outputs": [],
   "source": [
    "#kn=k.krp_names\n",
    "#o=[(\"%s%s\" % (a[0],kn[a[0]]), \"%s%s\" % (a[1], kn[a[1]]), a[2]) for a in o]\n",
    "o=sorted(o, key = lambda x : x[2], reverse=True)\n",
    "df=pd.DataFrame(o, columns=[\"Node1\", \"Node2\", \"W\"])"
   ]
  },
  {
   "cell_type": "code",
   "execution_count": null,
   "metadata": {},
   "outputs": [],
   "source": [
    "print(df)"
   ]
  },
  {
   "cell_type": "code",
   "execution_count": null,
   "metadata": {},
   "outputs": [],
   "source": [
    "for node, nbrsdict in G.adj.items():\n",
    "    print (node, nbrsdict)"
   ]
  },
  {
   "cell_type": "code",
   "execution_count": null,
   "metadata": {},
   "outputs": [],
   "source": [
    "md[0].GetScore(33)"
   ]
  },
  {
   "cell_type": "code",
   "execution_count": null,
   "metadata": {},
   "outputs": [],
   "source": [
    "import math\n",
    "math.exp(md[0].GetScore(33))"
   ]
  },
  {
   "cell_type": "code",
   "execution_count": null,
   "metadata": {},
   "outputs": [],
   "source": [
    "from collections import defaultdict\n",
    "vx=defaultdict(list)\n",
    "for i, vl in enumerate(mv):\n",
    "    for v in vl:\n",
    "        vx[v].append(ms[i])\n"
   ]
  },
  {
   "cell_type": "code",
   "execution_count": null,
   "metadata": {},
   "outputs": [],
   "source": [
    "dir(md[0])"
   ]
  },
  {
   "cell_type": "code",
   "execution_count": null,
   "metadata": {},
   "outputs": [],
   "source": [
    "md[0].PieceToId(mv[0][22])"
   ]
  },
  {
   "cell_type": "code",
   "execution_count": null,
   "metadata": {},
   "outputs": [],
   "source": [
    "from collections import defaultdict\n",
    "vx=defaultdict(list)\n",
    "for i, vl in enumerate(mv):\n",
    "    for j, v in enumerate(vl):\n",
    "        # j is the id of this sp in this model\n",
    "        sc = md[i].GetScore(j)\n",
    "        # for this sp, in this model, we record the score\n",
    "        vx[v].append((i, sc))\n"
   ]
  },
  {
   "cell_type": "code",
   "execution_count": null,
   "metadata": {},
   "outputs": [],
   "source": [
    "vk=list(v2.keys())\n",
    "vk[10]"
   ]
  },
  {
   "cell_type": "code",
   "execution_count": null,
   "metadata": {},
   "outputs": [],
   "source": [
    "len(vx[vk[10]])"
   ]
  },
  {
   "cell_type": "code",
   "execution_count": null,
   "metadata": {},
   "outputs": [],
   "source": [
    "import numpy as np\n",
    "up = 60\n",
    "lo = 1\n",
    "cnt = 1\n",
    "sx=np.zeros((75,75))\n",
    "\n",
    "#populate vx\n",
    "from collections import defaultdict\n",
    "vx=defaultdict(list)\n",
    "for i, vl in enumerate(mv):\n",
    "    for j, v in enumerate(vl):\n",
    "        # j is the id of this sp in this model\n",
    "        sc = md[i].GetScore(j)\n",
    "        # for this sp, in this model, we record the score\n",
    "        vx[v].append((i, sc))\n",
    "# limit to our target\n",
    "v2 = [a for a in vx.items() if len(a[1]) > lo and len(a[1]) < up]\n",
    "for v in v2:\n",
    "    for bu, p in v[1]:\n",
    "        for bu1, p1 in v[1]:\n",
    "            # I only want to see one half of the matrix\n",
    "            if bu < bu1:\n",
    "                px = p + p1\n",
    "                # only count\n",
    "                if cnt == 1:\n",
    "                    sx[bu, bu1] += cnt\n",
    "                else:\n",
    "                    sx[bu, bu1] += px\n",
    "# evaluate the result\n",
    "res={}\n",
    "for n in range(75):\n",
    "    o = []\n",
    "    for i in range(75):\n",
    "        if n < i:\n",
    "            o.append((ms[i], sx[n, i]))\n",
    "        else:\n",
    "            o.append((ms[i], sx[i, n]))\n",
    "    if cnt == 1:\n",
    "        o = sorted(o, key = lambda x : x[1], reverse=True)\n",
    "    else:\n",
    "        o = sorted(o, key = lambda x : x[1], reverse=False)\n",
    "    res[ms[n]] = o[0:10]\n",
    "# print the result\n",
    "kr=list(res.keys())\n",
    "kr.sort()\n",
    "for r in kr:\n",
    "    rx=[\"%s:%s\" % (a[0], k.krp_names[a[0]]) for a in res[r]]\n",
    "    print (r, k.krp_names[r], \",\".join(rx[0:5]))"
   ]
  },
  {
   "cell_type": "code",
   "execution_count": null,
   "metadata": {},
   "outputs": [],
   "source": [
    "import numpy as np\n",
    "sx=np.zeros((75,75))\n",
    "for v in v2:\n",
    "    for bu, p in v[1]:\n",
    "        for bu1, p1 in v[1]:\n",
    "            # I only want to see one half of the matrix\n",
    "            if bu < bu1:\n",
    "                px = p + p1\n",
    "                # only count\n",
    "                sx[bu, bu1] += px\n",
    "    "
   ]
  },
  {
   "cell_type": "code",
   "execution_count": null,
   "metadata": {},
   "outputs": [],
   "source": [
    "n=33\n",
    "for i in range(75):\n",
    "    if n < i:\n",
    "        print (n, i, sx[n, i])\n",
    "    else:\n",
    "        print (n, i, sx[i, n])\n",
    "        "
   ]
  },
  {
   "cell_type": "code",
   "execution_count": null,
   "metadata": {},
   "outputs": [],
   "source": [
    "import numpy as np\n",
    "\n",
    "sx=np.zeros((75,75))"
   ]
  },
  {
   "cell_type": "code",
   "execution_count": null,
   "metadata": {},
   "outputs": [],
   "source": [
    "n=10\n",
    "res={}\n",
    "for n in range(75):\n",
    "    o = []\n",
    "    for i in range(75):\n",
    "        if n < i:\n",
    "            o.append((ms[i], sx[n, i]))\n",
    "        else:\n",
    "            o.append((ms[i], sx[i, n]))\n",
    "    o = sorted(o, key = lambda x : x[1], reverse=False)\n",
    "    res[ms[n]] = o[0:10]"
   ]
  },
  {
   "cell_type": "code",
   "execution_count": null,
   "metadata": {},
   "outputs": [],
   "source": [
    "G = nx.MultiGraph()\n",
    "#o=[(g1, g2, vd2[g1][g2]) for g2 in vd2[g1] for g1 in vd2 if vd2[g1][g2] > 10]\n",
    "G.add_weighted_edges_from(o3)"
   ]
  },
  {
   "cell_type": "code",
   "execution_count": null,
   "metadata": {},
   "outputs": [],
   "source": [
    "nx.draw(G, with_labels=True, figsize=(2000, 2000))"
   ]
  },
  {
   "cell_type": "code",
   "execution_count": null,
   "metadata": {},
   "outputs": [],
   "source": [
    "o2 = sorted(o, key = lambda x : x[2], reverse=True)\n",
    "o3 = o2[0:10]"
   ]
  },
  {
   "cell_type": "code",
   "execution_count": null,
   "metadata": {},
   "outputs": [],
   "source": [
    "kr=list(res.keys())\n",
    "kr.sort()\n",
    "for r in kr:\n",
    "    rx=[\"%s:%s\" % (a[0], k.krp_names[a[0]]) for a in res[r]]\n",
    "    print (r, k.krp_names[r], \",\".join(rx[0:5]))"
   ]
  },
  {
   "cell_type": "code",
   "execution_count": null,
   "metadata": {},
   "outputs": [],
   "source": [
    "ms[0]"
   ]
  },
  {
   "cell_type": "code",
   "execution_count": null,
   "metadata": {},
   "outputs": [],
   "source": [
    "v"
   ]
  },
  {
   "cell_type": "code",
   "execution_count": null,
   "metadata": {},
   "outputs": [],
   "source": [
    "x1=    {'好施' :\n",
    "    [(13, -11.637325286865234),\n",
    "    (16, -11.83456039428711),\n",
    "    (18, -10.804060935974121),\n",
    "    (20, -11.320064544677734),\n",
    "    (40, -12.115601539611816),\n",
    "    (41, -11.592039108276367),\n",
    "    (42, -11.932478904724121),\n",
    "    (56, -12.036428451538086),\n",
    "    (72, -12.097436904907227)]}\n",
    "x1"
   ]
  },
  {
   "cell_type": "code",
   "execution_count": null,
   "metadata": {},
   "outputs": [],
   "source": [
    "v2 = dict([a for a in vx.items() if len(a[1]) > lo and len(a[1]) < up])"
   ]
  },
  {
   "cell_type": "code",
   "execution_count": null,
   "metadata": {},
   "outputs": [],
   "source": [
    "len(v2)"
   ]
  },
  {
   "cell_type": "code",
   "execution_count": null,
   "metadata": {},
   "outputs": [],
   "source": [
    "(23 + 25) / 2"
   ]
  },
  {
   "cell_type": "code",
   "execution_count": null,
   "metadata": {},
   "outputs": [],
   "source": [
    "s1, s2 = sx.shape"
   ]
  },
  {
   "cell_type": "code",
   "execution_count": null,
   "metadata": {},
   "outputs": [],
   "source": [
    "s2"
   ]
  },
  {
   "cell_type": "code",
   "execution_count": null,
   "metadata": {},
   "outputs": [],
   "source": []
  }
 ],
 "metadata": {
  "kernelspec": {
   "display_name": "Python 3",
   "language": "python",
   "name": "python3"
  },
  "language_info": {
   "codemirror_mode": {
    "name": "ipython",
    "version": 3
   },
   "file_extension": ".py",
   "mimetype": "text/x-python",
   "name": "python",
   "nbconvert_exporter": "python",
   "pygments_lexer": "ipython3",
   "version": "3.5.1"
  }
 },
 "nbformat": 4,
 "nbformat_minor": 2
}
