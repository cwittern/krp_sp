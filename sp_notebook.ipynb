{
 "cells": [
  {
   "cell_type": "markdown",
   "metadata": {},
   "source": [
    "# Load models\n",
    "\n",
    "Flags for the models (vocabulary size: 30000)\n",
    "\n",
    "m0 : model for the whole Kanseki Repository\n",
    "\n",
    "m1 : models for six parts (６部)\n",
    "\n",
    "m2 : models for 75 divisions (75部類)\n",
    "\n",
    "Vocabulary size: 20000\n",
    "\n",
    "m5 : : models for 75 divisions (75部類)\n"
   ]
  },
  {
   "cell_type": "code",
   "execution_count": 1,
   "metadata": {},
   "outputs": [
    {
     "data": {
      "text/plain": [
       "75"
      ]
     },
     "execution_count": 1,
     "metadata": {},
     "output_type": "execute_result"
    }
   ],
   "source": [
    "import krp_sp as k\n",
    "import matplotlib.pyplot as plt\n",
    "%matplotlib inline\n",
    "import networkx as nx\n",
    "import pandas as pd\n",
    "\n",
    "# load the log values : , log=True\n",
    "ms, md, mv = k.loadmodels(flag=\"m2\", use_krp_names=False)\n",
    "len(md)"
   ]
  },
  {
   "cell_type": "markdown",
   "metadata": {},
   "source": [
    "Load random samples from the data files "
   ]
  },
  {
   "cell_type": "code",
   "execution_count": 3,
   "metadata": {},
   "outputs": [],
   "source": [
    "smp = k.loadsamples()"
   ]
  },
  {
   "cell_type": "code",
   "execution_count": 4,
   "metadata": {},
   "outputs": [
    {
     "name": "stdout",
     "output_type": "stream",
     "text": [
      "('書類', ['天下之父歸之民心之趨向可知矣若是三篇果出於其手武王尤當名之也大明之詩曰殷商之旅其㑹如林其卒曰維師尚父時維鷹揚凉彼武王肆伐大商㑹朝清明乃知武王非太公未必成事則太誓之名亦與書序伊尹相湯伐桀之意同也學者又', '葢其善根将𤼵而習惡尤勝伊尹于此時知其不可以口舌争也于是謀之于羣臣之中求所以轉移太甲之心以謂兹乃不義之事其習與性成矣太甲之性本來無此特為習所勝則性亦與習成予不可使狎近于不順之人于是營桐宫桐宫乃成湯所葬之', '放驩兠于崇山竄三苗于三危殛鯀于羽山四罪而天下咸服(流遣之/逺去如)(水之流也放置之於此不得他適也竄則驅逐禁錮之/殛則拘囚困苦之隨其罪之輕重而異法也共工驩兠)(鯀事見上篇三苗國名在江南荆揚之間恃險為亂者', '。」允懷于茲，道積于厥躬。惟「斅學半」，「念終始典于學」，厥德脩罔覺。監于先王成憲，其永無愆。惟說式克欽承，旁招俊乂，列于庶位。王曰：嗚呼！說！四海之內，咸仰朕德，時乃風。股肱惟人，良臣惟聖。昔先正', '行方伯之/職以司牧人自任也遺之牛羊使亳衆為之耕將與之)(同善也而傲虐滋甚/不可訓誨於是征之)伊尹去亳適夏既醜有夏復歸于亳入自北門乃遇汝鳩汝方作汝鳩汝方(伊氏尹名經尹躬暨湯則名也或/曰名摯尹正也官名孔氏'])\n"
     ]
    }
   ],
   "source": [
    "print(smp[1])"
   ]
  },
  {
   "cell_type": "code",
   "execution_count": 5,
   "metadata": {},
   "outputs": [],
   "source": [
    "def getbest(md, sntc, mv=None, cnt=3):\n",
    "    \"\"\"Get the best result for the sentence provided. Optionally, return cnt results. SMP is the loaded list of models. Optionally provide a list with log values.\"\"\"\n",
    "    res=[]\n",
    "    for i, mx in enumerate(md):\n",
    "        ids = mx.encode_as_ids(sntc)\n",
    "        if mv:\n",
    "            r = sum([mv[i][a] for a in ids]) / len(ids)\n",
    "        else:\n",
    "            r = sum(ids) / len(ids)\n",
    "        res.append((i, r))\n",
    "    resx=sorted(res, key=lambda x: x[1], reverse=True)\n",
    "    #print(resx)\n",
    "    return [a[0] for a in resx[0:cnt]]\n"
   ]
  },
  {
   "cell_type": "code",
   "execution_count": 6,
   "metadata": {},
   "outputs": [
    {
     "data": {
      "text/plain": [
       "[23]"
      ]
     },
     "execution_count": 6,
     "metadata": {},
     "output_type": "execute_result"
    }
   ],
   "source": [
    "k.getbest(md, smp[1][0][1], None, 1)"
   ]
  },
  {
   "cell_type": "code",
   "execution_count": 7,
   "metadata": {},
   "outputs": [],
   "source": [
    "from collections import defaultdict\n",
    "kn=dict([(a[1],a[0]) for a in k.krp_names.items()])\n",
    "smpres=[]\n",
    "for s in smp:\n",
    "    d=defaultdict(int)\n",
    "    n=kn[s[0]]\n",
    "    for s1 in s[1]:\n",
    "        res=[ms[a] for a in getbest(md, s1)]\n",
    "        for i, rx in enumerate(res):\n",
    "            score= 3 - i\n",
    "            d[rx] += score\n",
    "    dr = sorted(d.items(), key = lambda i: i[1], reverse=True)\n",
    "    cr = sum([a[1] for a in dr if a[0]==n])\n",
    "    smpres.append ((\"%s%s\" % (n,s[0]), cr, \",\".join([\"%s:%s\" % a for a in dr])))"
   ]
  },
  {
   "cell_type": "code",
   "execution_count": 8,
   "metadata": {},
   "outputs": [
    {
     "name": "stdout",
     "output_type": "stream",
     "text": [
      "             0   1                                                  2\n",
      "0       KR1a易類   3  KR1f:6,KR6n:6,KR6l:4,KR6c:4,KR1a:3,KR6i:2,KR6k...\n",
      "1       KR1b書類   0  KR6n:5,KR6i:3,KR2f:3,KR2m:3,KR6l:3,KR6f:3,KR4d...\n",
      "2       KR1c詩類   0  KR3e:8,KR6v:3,KR6i:3,KR6c:3,KR6b:3,KR3j:2,KR6h...\n",
      "3       KR1d禮類   0  KR6n:9,KR6c:7,KR2f:3,KR6j:2,KR3f:2,KR6l:2,KR6a...\n",
      "4      KR1e春秋類   0  KR6n:7,KR6l:5,KR6f:4,KR1f:3,KR6k:3,KR6c:2,KR2f...\n",
      "5      KR1f孝經類  15  KR1f:15,KR6l:4,KR3e:3,KR4a:2,KR6n:2,KR2c:2,KR2...\n",
      "6    KR1g五經總義類   0  KR6n:10,KR6l:5,KR6a:4,KR4d:3,KR4h:2,KR6r:2,KR6...\n",
      "7      KR1h四書類   0  KR1f:9,KR2f:4,KR4h:4,KR3a:4,KR6n:3,KR3f:2,KR3e...\n",
      "8       KR1i樂類   1  KR6e:5,KR6n:4,KR6o:3,KR6k:3,KR3f:3,KR6h:3,KR5i...\n",
      "9      KR1j小學類   0  KR6n:6,KR6l:4,KR6k:4,KR1a:3,KR6c:3,KR6f:3,KR3f...\n",
      "10     KR2a正史類   0  KR6n:6,KR6a:5,KR1f:3,KR6k:3,KR2b:3,KR6e:3,KR6f...\n",
      "11     KR2b編年類   1  KR6n:9,KR2f:5,KR6a:4,KR3e:3,KR6m:2,KR6l:2,KR6f...\n",
      "12   KR2c紀事本末類   0  KR3e:6,KR6n:6,KR6k:4,KR2a:3,KR6l:3,KR6h:2,KR6e...\n",
      "13     KR2d別史類   0  KR6n:9,KR6l:5,KR6f:5,KR4a:3,KR2a:2,KR6c:2,KR3e...\n",
      "14     KR2e雜史類   1  KR6i:6,KR6n:6,KR3e:3,KR6h:3,KR3k:2,KR2f:2,KR6m...\n",
      "15   KR2f詔令奏議類   0  KR3e:5,KR6h:4,KR6n:4,KR4f:3,KR2b:3,KR6i:3,KR6c...\n",
      "16     KR2g傳記類   3  KR6n:12,KR2g:3,KR6f:3,KR3e:3,KR6c:2,KR2b:2,KR4...\n",
      "17     KR2h史鈔類   3  KR6n:6,KR6e:5,KR6o:4,KR2h:3,KR3e:3,KR6l:3,KR6k...\n",
      "18     KR2i載記類   0  KR6n:13,KR6l:7,KR3e:6,KR6o:1,KR6c:1,KR6i:1,KR6a:1\n",
      "19     KR2j時令類   0  KR6a:10,KR6n:9,KR3e:3,KR6l:3,KR6o:2,KR6m:2,KR3j:1\n",
      "20     KR2k地理類   0  KR6a:10,KR6n:9,KR3e:4,KR6f:3,KR3f:2,KR6d:1,KR6l:1\n",
      "21     KR2l職官類   3  KR6l:7,KR3e:5,KR6c:4,KR2l:3,KR6n:3,KR6a:3,KR6e...\n",
      "22     KR2m政書類   0  KR6l:7,KR3e:6,KR6m:3,KR6c:3,KR6a:2,KR6k:2,KR6e...\n",
      "23     KR2n目錄類   0  KR6n:11,KR6a:5,KR6j:3,KR6o:2,KR4e:2,KR6l:2,KR6...\n",
      "24     KR2o史評類   0  KR6n:13,KR3e:4,KR6f:4,KR6b:3,KR6o:2,KR6j:2,KR6...\n",
      "25   KR2p簡帛金石類   0  KR1i:9,KR5g:6,KR5d:4,KR4h:2,KR3f:2,KR1d:2,KR3k...\n",
      "26     KR3a儒家類   1  KR1f:8,KR6n:8,KR6l:4,KR5i:3,KR6m:2,KR1g:2,KR6b...\n",
      "27     KR3b兵家類   2  KR6n:9,KR3e:5,KR2b:4,KR6l:3,KR2f:2,KR3b:2,KR6f...\n",
      "28     KR3c法家類   5  KR3c:5,KR1f:4,KR3e:4,KR6l:4,KR6n:3,KR6e:3,KR6a...\n",
      "29     KR3d農家類   2  KR6n:8,KR6c:3,KR6i:3,KR3e:3,KR1a:3,KR2f:2,KR3d...\n",
      "..         ...  ..                                                ...\n",
      "47     KR5a洞真部   2  KR6n:7,KR3e:7,KR6a:4,KR6l:3,KR1d:3,KR1f:2,KR5a...\n",
      "48     KR5b洞玄部   0  KR6n:8,KR3e:6,KR6e:3,KR6l:3,KR6i:2,KR3c:2,KR6j...\n",
      "49     KR5c洞神部   0  KR3e:6,KR6k:6,KR1i:4,KR6a:4,KR6b:3,KR6i:2,KR6n...\n",
      "50     KR5d太玄部   0  KR6n:8,KR1f:4,KR3e:3,KR6f:3,KR6r:3,KR4a:2,KR2h...\n",
      "51     KR5e太平部   3  KR6n:8,KR3f:5,KR3e:5,KR5e:3,KR2k:3,KR6m:2,KR6a...\n",
      "52     KR5f太清部   1  KR6n:10,KR6c:5,KR1f:5,KR4h:3,KR6f:2,KR6v:1,KR6...\n",
      "53     KR5g正一部   2  KR6n:8,KR6l:5,KR3e:5,KR6b:3,KR6o:2,KR2h:2,KR5g...\n",
      "54     KR5h續道藏   3  KR6n:14,KR5h:3,KR6k:3,KR6i:2,KR6e:2,KR3e:2,KR6...\n",
      "55  KR5i清代道教文獻   5  KR5i:5,KR1f:4,KR6e:4,KR3e:4,KR6n:4,KR6k:3,KR6r...\n",
      "56    KR6a阿含部類   0  KR1i:7,KR4h:5,KR5i:5,KR6n:3,KR1f:2,KR6c:2,KR1c...\n",
      "57    KR6b本緣部類   1  KR1i:5,KR6c:5,KR6n:5,KR4h:3,KR5d:3,KR1f:2,KR6k...\n",
      "58    KR6c般若部類   0  KR4h:6,KR1i:4,KR5d:4,KR5g:3,KR6k:3,KR6i:2,KR2b...\n",
      "59    KR6d法華部類   1  KR5g:9,KR6c:6,KR6k:5,KR1f:3,KR4a:2,KR5d:2,KR1i...\n",
      "60    KR6e華嚴部類   5  KR5g:6,KR6e:5,KR6n:4,KR6d:3,KR5d:3,KR1i:2,KR6c...\n",
      "61    KR6f寶積部類   7  KR6f:7,KR1i:6,KR6c:4,KR4h:3,KR3j:2,KR6n:2,KR2h...\n",
      "62    KR6g涅槃部類   3  KR5g:8,KR5d:5,KR1a:3,KR6g:3,KR6n:3,KR2b:2,KR4h...\n",
      "63    KR6h大集部類   0  KR1i:9,KR6n:3,KR1a:3,KR5g:3,KR1f:3,KR6k:2,KR5d...\n",
      "64    KR6i經集部類   3  KR1f:6,KR6r:4,KR1i:3,KR6i:3,KR5g:3,KR4d:3,KR6q...\n",
      "65    KR6j密教部類   5  KR5g:5,KR6j:5,KR3e:4,KR4h:3,KR6n:3,KR6d:2,KR2b...\n",
      "66     KR6k律部類   5  KR4h:6,KR5g:6,KR6k:5,KR5i:4,KR5d:3,KR6n:2,KR1a...\n",
      "67    KR6l毘曇部類   3  KR5g:8,KR3f:5,KR6k:3,KR6l:3,KR6c:2,KR2l:2,KR6q...\n",
      "68    KR6m中觀部類   2  KR5g:15,KR6k:4,KR6m:2,KR4h:2,KR1f:2,KR2m:1,KR6...\n",
      "69    KR6n瑜伽部類   4  KR5g:15,KR6n:4,KR1a:2,KR6d:2,KR3e:2,KR5d:2,KR2...\n",
      "70    KR6o論集部類   2  KR5g:10,KR1a:3,KR6q:3,KR6o:2,KR6k:2,KR6i:2,KR2...\n",
      "71   KR6p淨土宗部類   0  KR5g:6,KR5i:5,KR5d:4,KR1i:3,KR6l:3,KR6n:3,KR6c...\n",
      "72    KR6q禪宗部類   2  KR6l:6,KR5g:4,KR5i:3,KR6e:3,KR6n:3,KR1c:2,KR6q...\n",
      "73    KR6r史傳部類   1  KR5g:14,KR6n:4,KR6l:3,KR3e:3,KR1a:2,KR1f:2,KR2...\n",
      "74    KR6s事彙部類   0  KR5g:7,KR3e:4,KR1a:3,KR6n:3,KR6e:3,KR4h:2,KR6c...\n",
      "75  KR6u敦煌寫本部類   0  KR5g:6,KR6b:3,KR6i:3,KR6d:3,KR6h:3,KR6f:3,KR6a...\n",
      "76    KR6v新編部類   2  KR1i:6,KR4a:6,KR4h:4,KR5d:3,KR3f:2,KR6v:2,KR5g...\n",
      "\n",
      "[77 rows x 3 columns]\n"
     ]
    }
   ],
   "source": [
    "df=pd.DataFrame(smpres)\n",
    "print(df)"
   ]
  },
  {
   "cell_type": "code",
   "execution_count": 9,
   "metadata": {},
   "outputs": [
    {
     "data": {
      "text/plain": [
       "30000"
      ]
     },
     "execution_count": 9,
     "metadata": {},
     "output_type": "execute_result"
    }
   ],
   "source": [
    "len(mv[0])"
   ]
  },
  {
   "cell_type": "markdown",
   "metadata": {},
   "source": [
    "How many characters are in every vocab list?"
   ]
  },
  {
   "cell_type": "code",
   "execution_count": 10,
   "metadata": {},
   "outputs": [],
   "source": [
    "from collections import defaultdict\n",
    "vd=defaultdict(int)\n",
    "for vl in mv:\n",
    "    for v in vl:\n",
    "        vd[v] += 1\n",
    "vtab=defaultdict(int)\n",
    "for v in vd.items():\n",
    "    vtab[v[1]] += 1"
   ]
  },
  {
   "cell_type": "code",
   "execution_count": 11,
   "metadata": {},
   "outputs": [
    {
     "data": {
      "text/plain": [
       "[(75, 1503),\n",
       " (74, 432),\n",
       " (73, 313),\n",
       " (72, 259),\n",
       " (71, 213),\n",
       " (70, 162),\n",
       " (69, 169),\n",
       " (68, 170),\n",
       " (67, 170),\n",
       " (66, 168)]"
      ]
     },
     "execution_count": 11,
     "metadata": {},
     "output_type": "execute_result"
    }
   ],
   "source": [
    "vds = sorted(vtab.items(), key = lambda i: i[0], reverse=True)\n",
    "vds[0:10]"
   ]
  },
  {
   "cell_type": "markdown",
   "metadata": {},
   "source": [
    "Turn the vocabulary list of list around, list by sp"
   ]
  },
  {
   "cell_type": "code",
   "execution_count": 12,
   "metadata": {},
   "outputs": [],
   "source": [
    "from collections import defaultdict\n",
    "vx=defaultdict(list)\n",
    "for i, vl in enumerate(mv):\n",
    "    for v in vl:\n",
    "        vx[v].append(ms[i])\n"
   ]
  },
  {
   "cell_type": "markdown",
   "metadata": {},
   "source": [
    "Look at vocab entries with only 2 occurrences"
   ]
  },
  {
   "cell_type": "code",
   "execution_count": 13,
   "metadata": {},
   "outputs": [],
   "source": [
    "v2 = [a for a in vx.items() if len(a[1]) == 2]\n",
    "vd2 = defaultdict(lambda: defaultdict(int))\n",
    "for vdn in v2:\n",
    "    l1 = vdn[1][0]\n",
    "    l2 = vdn[1][1]\n",
    "    vd2[l1][l2]+=1\n"
   ]
  },
  {
   "cell_type": "code",
   "execution_count": 18,
   "metadata": {},
   "outputs": [],
   "source": [
    "o = []\n",
    "for g1 in vd2:\n",
    "    for g2 in vd2[g1]:\n",
    "        w = vd2[g1][g2]\n",
    "        if w > 10:\n",
    "            o.append((g1, g2, w))"
   ]
  },
  {
   "cell_type": "code",
   "execution_count": 21,
   "metadata": {},
   "outputs": [],
   "source": [
    "G = nx.MultiGraph()\n",
    "#o=[(g1, g2, vd2[g1][g2]) for g2 in vd2[g1] for g1 in vd2 if vd2[g1][g2] > 10]\n",
    "G.add_weighted_edges_from(o)\n",
    "        "
   ]
  },
  {
   "cell_type": "code",
   "execution_count": 22,
   "metadata": {},
   "outputs": [
    {
     "data": {
      "image/png": "[encoded data removed]",
      "text/plain": [
       "<matplotlib.figure.Figure at 0x7f9e917bd898>"
      ]
     },
     "metadata": {},
     "output_type": "display_data"
    }
   ],
   "source": [
    "nx.draw(G, with_labels=True, figsize=(2000, 2000))"
   ]
  },
  {
   "cell_type": "code",
   "execution_count": null,
   "metadata": {},
   "outputs": [],
   "source": [
    "for k in G.nodes():\n",
    "    print (k, G[k].items())"
   ]
  },
  {
   "cell_type": "code",
   "execution_count": null,
   "metadata": {},
   "outputs": [],
   "source": [
    "import matplotlib.font_manager as mfm\n",
    "import matplotlib.pyplot as plt\n",
    "\n",
    "font_path = \"/usr/share/fonts/opentype/noto/NotoSansCJK-Thin.ttc\"\n",
    "prop = mfm.FontProperties(fname=font_path)\n",
    "plt.text(0.5, 0.5, s='测试', fontproperties=prop, size='40')\n",
    "plt.show()"
   ]
  },
  {
   "cell_type": "code",
   "execution_count": 23,
   "metadata": {},
   "outputs": [],
   "source": [
    "#kn=k.krp_names\n",
    "#o=[(\"%s%s\" % (a[0],kn[a[0]]), \"%s%s\" % (a[1], kn[a[1]]), a[2]) for a in o]\n",
    "o=sorted(o, key = lambda x : x[2], reverse=True)\n",
    "df=pd.DataFrame(o)"
   ]
  },
  {
   "cell_type": "code",
   "execution_count": 24,
   "metadata": {},
   "outputs": [
    {
     "name": "stdout",
     "output_type": "stream",
     "text": [
      "        0     1     2\n",
      "0    KR3e  KR5e  1482\n",
      "1    KR6l  KR6n  1469\n",
      "2    KR6q  KR6r  1141\n",
      "3    KR1j  KR6s   992\n",
      "4    KR5b  KR5g   746\n",
      "5    KR3c  KR5f   691\n",
      "6    KR6a  KR6b   611\n",
      "7    KR6f  KR6h   421\n",
      "8    KR5a  KR5g   389\n",
      "9    KR3e  KR5d   378\n",
      "10   KR3e  KR3i   367\n",
      "11   KR5e  KR5g   367\n",
      "12   KR6b  KR6h   289\n",
      "13   KR4d  KR4e   281\n",
      "14   KR6e  KR6n   268\n",
      "15   KR5a  KR5b   261\n",
      "16   KR6a  KR6k   255\n",
      "17   KR5c  KR5i   247\n",
      "18   KR2n  KR3h   245\n",
      "19   KR6c  KR6v   244\n",
      "20   KR6d  KR6g   240\n",
      "21   KR6m  KR6n   233\n",
      "22   KR1a  KR5h   226\n",
      "23   KR5c  KR5h   219\n",
      "24   KR5a  KR5i   218\n",
      "25   KR1j  KR3j   203\n",
      "26   KR6b  KR6k   196\n",
      "27   KR6a  KR6l   194\n",
      "28   KR3i  KR4j   194\n",
      "29   KR2j  KR3i   192\n",
      "..    ...   ...   ...\n",
      "487  KR5f  KR6k    11\n",
      "488  KR3e  KR3l    11\n",
      "489  KR1g  KR4c    11\n",
      "490  KR2j  KR3h    11\n",
      "491  KR5b  KR6r    11\n",
      "492  KR6i  KR6r    11\n",
      "493  KR6l  KR6r    11\n",
      "494  KR5a  KR6r    11\n",
      "495  KR5h  KR6r    11\n",
      "496  KR2j  KR4d    11\n",
      "497  KR1e  KR4d    11\n",
      "498  KR1a  KR4a    11\n",
      "499  KR1d  KR4a    11\n",
      "500  KR3f  KR4a    11\n",
      "501  KR3j  KR5f    11\n",
      "502  KR2j  KR5c    11\n",
      "503  KR2h  KR4e    11\n",
      "504  KR1f  KR5d    11\n",
      "505  KR3f  KR5d    11\n",
      "506  KR1j  KR5b    11\n",
      "507  KR3g  KR5b    11\n",
      "508  KR3k  KR4h    11\n",
      "509  KR1f  KR6q    11\n",
      "510  KR6g  KR6q    11\n",
      "511  KR4e  KR6q    11\n",
      "512  KR5h  KR6q    11\n",
      "513  KR2k  KR4j    11\n",
      "514  KR5e  KR6b    11\n",
      "515  KR2f  KR6b    11\n",
      "516  KR5g  KR6b    11\n",
      "\n",
      "[517 rows x 3 columns]\n"
     ]
    }
   ],
   "source": [
    "print(df)"
   ]
  },
  {
   "cell_type": "code",
   "execution_count": null,
   "metadata": {},
   "outputs": [],
   "source": [
    "for node, nbrsdict in G.adj.items():\n",
    "    print (node, nbrsdict)"
   ]
  }
 ],
 "metadata": {
  "kernelspec": {
   "display_name": "Python 3",
   "language": "python",
   "name": "python3"
  },
  "language_info": {
   "codemirror_mode": {
    "name": "ipython",
    "version": 3
   },
   "file_extension": ".py",
   "mimetype": "text/x-python",
   "name": "python",
   "nbconvert_exporter": "python",
   "pygments_lexer": "ipython3",
   "version": "3.5.1"
  }
 },
 "nbformat": 4,
 "nbformat_minor": 2
}
