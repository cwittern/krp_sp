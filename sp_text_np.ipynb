{
 "cells": [
  {
   "cell_type": "markdown",
   "metadata": {},
   "source": [
    "# Sentencepiece text classification\n",
    "Using sp tokenized texts to experiment with cluster and classify text"
   ]
  },
  {
   "cell_type": "code",
   "execution_count": 1,
   "metadata": {},
   "outputs": [],
   "source": [
    "import krp_ngram as k\n",
    "import sentencepiece as spm\n",
    "import matplotlib.pyplot as plt\n",
    "get_ipython().run_line_magic('matplotlib', 'inline')\n",
    "import networkx as nx\n",
    "import pandas as pd\n",
    "import codecs, os, re\n",
    "from collections import Counter\n",
    "from collections import defaultdict\n",
    "from operator import itemgetter\n",
    "import numpy as np\n",
    "import community"
   ]
  },
  {
   "cell_type": "markdown",
   "metadata": {},
   "source": [
    "Aggregate "
   ]
  },
  {
   "cell_type": "code",
   "execution_count": 4,
   "metadata": {},
   "outputs": [],
   "source": [
    "def agg_voclist(kr2id, tdir=\"text\"):\n",
    "    \"\"\"    returns a dictionary of lists, one entry for each sp (with score option):\n",
    "     we use ids for the kr texts\n",
    "    {'好施' :\n",
    "    [(1, -11.637325286865234),\n",
    "    (27, -11.83456039428711)]}\n",
    "    \"\"\"\n",
    "    vx=defaultdict(list)\n",
    "    mv=os.listdir(tdir)\n",
    "    mv.sort()\n",
    "    for f in mv:\n",
    "        krp=f[:-4]\n",
    "        krid = kr2id[krp]\n",
    "        for line in codecs.open(\"%s/%s\" % (tdir, f), \"r\", \"utf-8\"):\n",
    "            if line.startswith(\"#\"):\n",
    "                continue\n",
    "            v,p = line[:-1].split(\"\\t\",1)\n",
    "            vx[v].append((krid, float(p)))\n",
    "    return vx\n"
   ]
  },
  {
   "cell_type": "code",
   "execution_count": 5,
   "metadata": {},
   "outputs": [],
   "source": [
    "titf = \"kr2titles0.txt\"\n",
    "kr2id={}\n",
    "id2kr={}\n",
    "cnt=0\n",
    "for line in codecs.open(titf, \"r\", \"utf-8\"):\n",
    "    if line.startswith(\"#\"):\n",
    "        continue\n",
    "    kr = line.split()[0]\n",
    "    kr2id[kr] = cnt\n",
    "    id2kr[cnt] = kr\n",
    "    cnt += 1\n",
    "    "
   ]
  },
  {
   "cell_type": "code",
   "execution_count": 6,
   "metadata": {},
   "outputs": [],
   "source": [
    "vx = agg_voclist(kr2id)"
   ]
  },
  {
   "cell_type": "code",
   "execution_count": null,
   "metadata": {},
   "outputs": [],
   "source": [
    "size=len(kr2id)\n",
    "txm = np.zeros((size, size))\n",
    "lo=100\n",
    "up=1000\n",
    "if 1:\n",
    "    vk=list(vx.keys())\n",
    "    for v1 in vk:\n",
    "        cur = vx[v1]\n",
    "        size = len(cur)\n",
    "        if size > lo and size < up:\n",
    "            for i, c1 in enumerate(cur):\n",
    "                for j, c2 in enumerate(cur):\n",
    "                    if i != j:\n",
    "                        w = c1[1] + c2[1]\n",
    "                        ix1 = c1[0]\n",
    "                        ix2 = c2[0]\n",
    "                        if ix1 < ix2 :\n",
    "                            txm[ix1:ix2] += w\n",
    "                        else:\n",
    "                            txm[ix2:ix1] += w\n",
    "                            \n",
    "        "
   ]
  },
  {
   "cell_type": "code",
   "execution_count": 8,
   "metadata": {},
   "outputs": [
    {
     "data": {
      "text/plain": [
       "73220"
      ]
     },
     "execution_count": 8,
     "metadata": {},
     "output_type": "execute_result"
    }
   ],
   "source": [
    "len(vx)"
   ]
  },
  {
   "cell_type": "code",
   "execution_count": null,
   "metadata": {},
   "outputs": [],
   "source": []
  },
  {
   "cell_type": "code",
   "execution_count": null,
   "metadata": {},
   "outputs": [],
   "source": []
  },
  {
   "cell_type": "code",
   "execution_count": null,
   "metadata": {},
   "outputs": [],
   "source": []
  },
  {
   "cell_type": "code",
   "execution_count": null,
   "metadata": {},
   "outputs": [],
   "source": []
  },
  {
   "cell_type": "code",
   "execution_count": null,
   "metadata": {},
   "outputs": [],
   "source": []
  },
  {
   "cell_type": "code",
   "execution_count": null,
   "metadata": {},
   "outputs": [],
   "source": []
  },
  {
   "cell_type": "code",
   "execution_count": null,
   "metadata": {},
   "outputs": [],
   "source": []
  },
  {
   "cell_type": "code",
   "execution_count": null,
   "metadata": {},
   "outputs": [],
   "source": []
  }
 ],
 "metadata": {
  "kernelspec": {
   "display_name": "Python 3",
   "language": "python",
   "name": "python3"
  },
  "language_info": {
   "codemirror_mode": {
    "name": "ipython",
    "version": 3
   },
   "file_extension": ".py",
   "mimetype": "text/x-python",
   "name": "python",
   "nbconvert_exporter": "python",
   "pygments_lexer": "ipython3",
   "version": "3.5.1"
  }
 },
 "nbformat": 4,
 "nbformat_minor": 2
}
