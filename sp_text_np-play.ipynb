{
 "cells": [
  {
   "cell_type": "markdown",
   "metadata": {},
   "source": [
    "# Sentencepiece text classification\n",
    "Using sp tokenized texts to experiment with cluster and classify text"
   ]
  },
  {
   "cell_type": "code",
   "execution_count": 1,
   "metadata": {},
   "outputs": [],
   "source": [
    "import krp_ngram as k\n",
    "import sentencepiece as spm\n",
    "import matplotlib.pyplot as plt\n",
    "get_ipython().run_line_magic('matplotlib', 'inline')\n",
    "import networkx as nx\n",
    "import pandas as pd\n",
    "import codecs, os, re\n",
    "from collections import Counter\n",
    "from collections import defaultdict\n",
    "from operator import itemgetter\n",
    "import numpy as np\n",
    "import community"
   ]
  },
  {
   "cell_type": "markdown",
   "metadata": {},
   "source": [
    "Aggregate "
   ]
  },
  {
   "cell_type": "code",
   "execution_count": 2,
   "metadata": {},
   "outputs": [],
   "source": [
    "def agg_voclist(kr2id, tdir=\"text\"):\n",
    "    \"\"\"    returns a dictionary of lists, one entry for each sp (with score option):\n",
    "     we use ids for the kr texts\n",
    "    {'好施' :\n",
    "    [(1, -11.637325286865234),\n",
    "    (27, -11.83456039428711)]}\n",
    "    \"\"\"\n",
    "    vx=defaultdict(list)\n",
    "    mv=os.listdir(tdir)\n",
    "    mv.sort()\n",
    "    for f in mv:\n",
    "        krp=f[:-4]\n",
    "        krid = kr2id[krp]\n",
    "        for line in codecs.open(\"%s/%s\" % (tdir, f), \"r\", \"utf-8\"):\n",
    "            if line.startswith(\"#\"):\n",
    "                continue\n",
    "            v,p = line[:-1].split(\"\\t\",1)\n",
    "            vx[v].append((krid, float(p)))\n",
    "    return vx\n"
   ]
  },
  {
   "cell_type": "code",
   "execution_count": 3,
   "metadata": {},
   "outputs": [],
   "source": [
    "titf = \"kr2titles0.txt\"\n",
    "kr2id={}\n",
    "id2kr={}\n",
    "cnt=0\n",
    "for line in codecs.open(titf, \"r\", \"utf-8\"):\n",
    "    if line.startswith(\"#\"):\n",
    "        continue\n",
    "    kr = line.split()[0]\n",
    "    kr2id[kr] = cnt\n",
    "    id2kr[cnt] = kr\n",
    "    cnt += 1\n",
    "    "
   ]
  },
  {
   "cell_type": "code",
   "execution_count": 4,
   "metadata": {},
   "outputs": [],
   "source": [
    "vx = agg_voclist(kr2id)"
   ]
  },
  {
   "cell_type": "code",
   "execution_count": null,
   "metadata": {},
   "outputs": [],
   "source": [
    "size=len(kr2id)\n",
    "txm = np.zeros((size, size))\n",
    "lo=1999\n",
    "up=2001\n",
    "if 1:\n",
    "    vk=list(vx.keys())\n",
    "    # only those with more than 100 are considered\n",
    "    vxl=[a for a in vk if len(vx[a]) > 100]\n",
    "    # now we take a sample from these\n",
    "    for s in sample(range(len(vxl)), 100):\n",
    "        v1 = vk[s]\n",
    "        cur = vx[v1]\n",
    "        size = len(cur)\n",
    "        if size > 1 :\n",
    "            for i, c1 in enumerate(cur):\n",
    "                for j, c2 in enumerate(cur):\n",
    "                    if i != j:\n",
    "                        w = c1[1] + c2[1]\n",
    "                        ix1 = c1[0]\n",
    "                        ix2 = c2[0]\n",
    "                        if ix1 < ix2 :\n",
    "                            txm[ix1:ix2] += w\n",
    "                        else:\n",
    "                            txm[ix2:ix1] += w\n",
    "                            \n",
    "        "
   ]
  },
  {
   "cell_type": "code",
   "execution_count": 5,
   "metadata": {},
   "outputs": [
    {
     "data": {
      "text/plain": [
       "73220"
      ]
     },
     "execution_count": 5,
     "metadata": {},
     "output_type": "execute_result"
    }
   ],
   "source": [
    "len(vx)"
   ]
  },
  {
   "cell_type": "code",
   "execution_count": 6,
   "metadata": {},
   "outputs": [
    {
     "data": {
      "text/plain": [
       "73220"
      ]
     },
     "execution_count": 6,
     "metadata": {},
     "output_type": "execute_result"
    }
   ],
   "source": [
    "vxk = list(vx.keys())\n",
    "len(vxk)"
   ]
  },
  {
   "cell_type": "code",
   "execution_count": 9,
   "metadata": {},
   "outputs": [],
   "source": [
    "vxl=[a for a in vxk if len(vx[a]) > 100]"
   ]
  },
  {
   "cell_type": "code",
   "execution_count": 10,
   "metadata": {},
   "outputs": [
    {
     "data": {
      "text/plain": [
       "24746"
      ]
     },
     "execution_count": 10,
     "metadata": {},
     "output_type": "execute_result"
    }
   ],
   "source": [
    "len(vxl)"
   ]
  },
  {
   "cell_type": "code",
   "execution_count": 11,
   "metadata": {},
   "outputs": [
    {
     "name": "stdout",
     "output_type": "stream",
     "text": [
      "[21898, 2403, 7557, 10425, 19235, 10909, 21306, 20935, 2700, 5158, 21181, 4134, 23102, 14625, 11958, 10278, 4506, 2496, 21791, 13564, 18753, 16833, 19678, 2357, 23722, 12437, 9359, 299, 19708, 3291, 17539, 13907, 20530, 10417, 1558, 15230, 5574, 20025, 14005, 14532, 2855, 16963, 17477, 13836, 15246, 23492, 2955, 11456, 17, 4758, 696, 739, 9678, 6759, 24179, 23413, 10188, 1292, 2689, 9463, 4980, 12376, 15106, 5931, 10830, 22445, 8233, 258, 1968, 5210, 9241, 7582, 5628, 14236, 10109, 16467, 6376, 23773, 18221, 19868, 5472, 9353, 23425, 2743, 13039, 2833, 10654, 20852, 7724, 16406, 2763, 7417, 3188, 19540, 3324, 21881, 6411, 11146, 7639, 8440]\n"
     ]
    }
   ],
   "source": [
    "from random import sample\n",
    "sd = sample(range(len(vxl)), 100)  \n",
    "print(sd)"
   ]
  },
  {
   "cell_type": "code",
   "execution_count": null,
   "metadata": {},
   "outputs": [],
   "source": [
    "for s in sd:\n",
    "    "
   ]
  },
  {
   "cell_type": "code",
   "execution_count": null,
   "metadata": {},
   "outputs": [],
   "source": []
  },
  {
   "cell_type": "code",
   "execution_count": null,
   "metadata": {},
   "outputs": [],
   "source": []
  },
  {
   "cell_type": "code",
   "execution_count": null,
   "metadata": {},
   "outputs": [],
   "source": []
  }
 ],
 "metadata": {
  "kernelspec": {
   "display_name": "Python 3",
   "language": "python",
   "name": "python3"
  },
  "language_info": {
   "codemirror_mode": {
    "name": "ipython",
    "version": 3
   },
   "file_extension": ".py",
   "mimetype": "text/x-python",
   "name": "python",
   "nbconvert_exporter": "python",
   "pygments_lexer": "ipython3",
   "version": "3.5.1"
  }
 },
 "nbformat": 4,
 "nbformat_minor": 2
}
